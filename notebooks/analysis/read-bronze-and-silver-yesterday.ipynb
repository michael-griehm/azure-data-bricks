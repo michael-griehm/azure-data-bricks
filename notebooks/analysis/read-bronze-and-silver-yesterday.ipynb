{
 "cells": [
  {
   "cell_type": "code",
   "execution_count": null,
   "metadata": {},
   "outputs": [],
   "source": [
    "# Set the Datalake Access Key configuration\n",
    "spark.conf.set(\n",
    "    \"fs.azure.account.key.cryptoanalyticslake.dfs.core.windows.net\",\n",
    "    dbutils.secrets.get(scope=\"key-vault-secret-scope\",key=\"cryptoanalyticslake-access-key\"))"
   ]
  },
  {
   "cell_type": "code",
   "execution_count": null,
   "metadata": {},
   "outputs": [],
   "source": [
    "# Set Day Month Year\n",
    "from datetime import datetime, timedelta\n",
    "\n",
    "today = datetime.utcnow()\n",
    "yesterday = today - timedelta(days = 1)\n",
    "year = yesterday.year\n",
    "month = yesterday.month\n",
    "day = yesterday.day"
   ]
  },
  {
   "cell_type": "code",
   "execution_count": null,
   "metadata": {},
   "outputs": [],
   "source": [
    "# Recursive data load for all files from a day from every partition in the Event Hub Namespace\n",
    "sourcefolderpath = f\"abfss://crypto-bronze@cryptoanalyticslake.dfs.core.windows.net/quotes-by-day/{year}/{month:0>2d}/{day:0>2d}\"\n",
    "\n",
    "print(sourcefolderpath)\n",
    "\n",
    "dfbronze = spark.read.parquet(sourcefolderpath)\n",
    "\n",
    "display(dfbronze)"
   ]
  },
  {
   "cell_type": "code",
   "execution_count": null,
   "metadata": {},
   "outputs": [],
   "source": [
    "# Recursive data load for all files from a day from every partition in the Event Hub Namespace\n",
    "sourcefolderpath = f\"abfss://crypto-silver@cryptoanalyticslake.dfs.core.windows.net/quotes-by-day/{year}/{month:0>2d}/{day:0>2d}\"\n",
    "\n",
    "print(sourcefolderpath)\n",
    "\n",
    "dfsilver = spark.read.format(\"delta\").load(sourcefolderpath)\n",
    "\n",
    "display(dfsilver)"
   ]
  }
 ],
 "metadata": {
  "language_info": {
   "name": "python"
  },
  "orig_nbformat": 4
 },
 "nbformat": 4,
 "nbformat_minor": 2
}
