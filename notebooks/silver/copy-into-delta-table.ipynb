{
 "cells": [
  {
   "cell_type": "code",
   "execution_count": null,
   "metadata": {},
   "outputs": [],
   "source": [
    "# Set the Datalake Access Key configuration\n",
    "spark.conf.set(\n",
    "    \"fs.azure.account.key.cryptoanalyticslake.dfs.core.windows.net\",\n",
    "    dbutils.secrets.get(scope=\"key-vault-secret-scope\",key=\"cryptoanalyticslake-access-key\"))"
   ]
  },
  {
   "cell_type": "code",
   "execution_count": null,
   "metadata": {},
   "outputs": [],
   "source": [
    "spark.sql(\"CREATE SCHEMA IF NOT EXISTS silver\")"
   ]
  },
  {
   "cell_type": "code",
   "execution_count": null,
   "metadata": {},
   "outputs": [],
   "source": [
    "sql_table_create = \"CREATE TABLE IF NOT EXISTS silver.quotes \\\n",
    "                      (Symbol STRING NOT NULL, Price DECIMAL(38,15) NOT NULL, PriceTimeStamp TIMESTAMP NOT NULL, PriceDate DATE NOT NULL) \\\n",
    "                    USING DELTA \\\n",
    "                    PARTITIONED BY (PriceDate) \\\n",
    "                    LOCATION 'abfss://crypto-silver@cryptoanalyticslake.dfs.core.windows.net/delta-table/quotes'\"\n",
    "\n",
    "spark.sql(sql_table_create)"
   ]
  },
  {
   "cell_type": "code",
   "execution_count": null,
   "metadata": {},
   "outputs": [],
   "source": [
    "# Set Day Month Year\n",
    "from datetime import datetime\n",
    "\n",
    "today = datetime.utcnow()\n",
    "year = today.year\n",
    "month = today.month\n",
    "day = today.day"
   ]
  },
  {
   "cell_type": "code",
   "execution_count": null,
   "metadata": {},
   "outputs": [],
   "source": [
    "sql_copy = f\"COPY INTO silver.quotes \\\n",
    "             FROM (SELECT Symbol, Price, PriceTimeStamp, PriceDate \\\n",
    "                FROM 'abfss://crypto-silver@cryptoanalyticslake.dfs.core.windows.net/quotes-by-day/manual-partition/{year}/{month:0>2d}/{day:0>2d}') \\\n",
    "             FILEFORMAT = DELTA\"\n",
    "\n",
    "spark.sql(sql_copy)"
   ]
  }
 ],
 "metadata": {
  "language_info": {
   "name": "python"
  },
  "orig_nbformat": 4
 },
 "nbformat": 4,
 "nbformat_minor": 2
}
