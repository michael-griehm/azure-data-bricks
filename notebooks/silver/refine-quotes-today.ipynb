{
 "cells": [
  {
   "cell_type": "code",
   "execution_count": null,
   "metadata": {},
   "outputs": [],
   "source": [
    "# Set the Datalake Access Key configuration\n",
    "spark.conf.set(\n",
    "    \"fs.azure.account.key.cryptoanalyticslake.dfs.core.windows.net\",\n",
    "    dbutils.secrets.get(scope=\"key-vault-secret-scope\",key=\"cryptoanalyticslake-access-key\"))"
   ]
  },
  {
   "cell_type": "code",
   "execution_count": null,
   "metadata": {},
   "outputs": [],
   "source": [
    "# Set Day Month Year\n",
    "from datetime import datetime\n",
    "\n",
    "today = datetime.utcnow()\n",
    "year = today.year\n",
    "month = today.month\n",
    "day = today.day"
   ]
  },
  {
   "cell_type": "code",
   "execution_count": null,
   "metadata": {},
   "outputs": [],
   "source": [
    "# Recursive data load for all files from a day from every partition in the Event Hub Namespace\n",
    "sourcefolderpath = f\"abfss://crypto-bronze@cryptoanalyticslake.dfs.core.windows.net/quotes-by-day/{year}/{month:0>2d}/{day:0>2d}\"\n",
    "\n",
    "print(sourcefolderpath)\n",
    "\n",
    "df = spark.read.option(\"recursiveFileLookup\",\"true\").parquet(sourcefolderpath)"
   ]
  },
  {
   "cell_type": "code",
   "execution_count": null,
   "metadata": {},
   "outputs": [],
   "source": [
    "display(df)"
   ]
  },
  {
   "cell_type": "code",
   "execution_count": null,
   "metadata": {},
   "outputs": [],
   "source": [
    "# Write the partquet file in the bronze crypto data zone\n",
    "sparkpartitionfolderpath = f\"abfss://crypto-silver@cryptoanalyticslake.dfs.core.windows.net/quotes-by-day/spark-partition\"\n",
    "\n",
    "print(sparkpartitionfolderpath)\n",
    "\n",
    "df.write.partitionBy(\"PriceDate\").format(\"delta\").mode(\"overwrite\").save(sparkpartitionfolderpath)"
   ]
  },
  {
   "cell_type": "code",
   "execution_count": null,
   "metadata": {},
   "outputs": [],
   "source": [
    "# Write the partquet file in the silver crypto data zone\n",
    "manualpartitionfolderpath = f\"abfss://crypto-silver@cryptoanalyticslake.dfs.core.windows.net/quotes-by-day/manual-partition/{year}/{month:0>2d}/{day:0>2d}\"\n",
    "\n",
    "print(manualpartitionfolderpath)\n",
    "\n",
    "df.write.format(\"delta\").mode(\"overwrite\").save(manualpartitionfolderpath)"
   ]
  }
 ],
 "metadata": {
  "language_info": {
   "name": "python"
  },
  "orig_nbformat": 4
 },
 "nbformat": 4,
 "nbformat_minor": 2
}
