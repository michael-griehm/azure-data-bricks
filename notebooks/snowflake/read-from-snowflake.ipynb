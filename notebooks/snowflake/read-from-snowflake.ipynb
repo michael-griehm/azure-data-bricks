{
 "cells": [
  {
   "cell_type": "code",
   "execution_count": null,
   "metadata": {},
   "outputs": [],
   "source": [
    "# Use secrets DBUtil to get Snowflake credentials.\n",
    "user = dbutils.secrets.get(scope=\"key-vault-secret-scope\",key=\"snowflake-username\")\n",
    "password = dbutils.secrets.get(scope=\"key-vault-secret-scope\",key=\"snowflake-password\")\n",
    "url = dbutils.secrets.get(scope=\"key-vault-secret-scope\",key=\"snowflake-url\")\n",
    "\n",
    "# snowflake connection options\n",
    "options = {\n",
    "  \"sfUrl\": url,\n",
    "  \"sfUser\": user,\n",
    "  \"sfPassword\": password,\n",
    "  \"sfDatabase\": \"SHARED_CRYPTO_QUOTES\",\n",
    "  \"sfSchema\": \"PUBLIC\",\n",
    "  \"sfWarehouse\": \"READER_WH\"\n",
    "}"
   ]
  },
  {
   "cell_type": "code",
   "execution_count": null,
   "metadata": {},
   "outputs": [],
   "source": [
    "df = spark.read.format(\"snowflake\").options(**options).option(\"query\", \"CRYPTO_QUOTES\").load()\n",
    "\n",
    "display(df)"
   ]
  },
  {
   "cell_type": "code",
   "execution_count": null,
   "metadata": {},
   "outputs": [],
   "source": [
    "print(df.count())"
   ]
  },
  {
   "cell_type": "code",
   "execution_count": null,
   "metadata": {},
   "outputs": [],
   "source": [
    "query = \"SELECT * \\\n",
    "         FROM SHARED_CRYPTO_QUOTES.PUBLIC.CRYPTO_QUOTES \\\n",
    "         WHERE PRICE_DATE > '2022-04-06'\"\n",
    "\n",
    "df = spark.read.format(\"snowflake\").options(**options).option(\"query\", query).load()\n",
    "\n",
    "display(df)"
   ]
  },
  {
   "cell_type": "code",
   "execution_count": null,
   "metadata": {},
   "outputs": [],
   "source": [
    "print(df.count())"
   ]
  },
  {
   "cell_type": "code",
   "execution_count": null,
   "metadata": {},
   "outputs": [],
   "source": [
    "spark.conf.set(\n",
    "    \"fs.azure.account.key.cryptoanalyticslake.dfs.core.windows.net\",\n",
    "    dbutils.secrets.get(scope=\"key-vault-secret-scope\",key=\"cryptoanalyticslake-access-key\"))"
   ]
  },
  {
   "cell_type": "code",
   "execution_count": null,
   "metadata": {},
   "outputs": [],
   "source": [
    "destinationfolderpath = f\"abfss://crypto-bronze@cryptoanalyticslake.dfs.core.windows.net/snowflake-raw/databricks\"\n",
    "\n",
    "print(destinationfolderpath)\n",
    "\n",
    "df.write.partitionBy(\"PRICE_DATE\").format(\"delta\").mode(\"overwrite\").save(destinationfolderpath)"
   ]
  }
 ],
 "metadata": {
  "language_info": {
   "name": "python"
  },
  "orig_nbformat": 4
 },
 "nbformat": 4,
 "nbformat_minor": 2
}
