{
 "cells": [
  {
   "cell_type": "code",
   "execution_count": null,
   "metadata": {},
   "outputs": [],
   "source": [
    "# Set the Datalake Access Key configuration\n",
    "spark.conf.set(\n",
    "    \"fs.azure.account.key.cryptoanalyticslake.dfs.core.windows.net\",\n",
    "    dbutils.secrets.get(scope=\"key-vault-secret-scope\",key=\"cryptoanalyticslake-access-key\"))"
   ]
  },
  {
   "cell_type": "code",
   "execution_count": null,
   "metadata": {},
   "outputs": [],
   "source": [
    "# Use secrets DBUtil to get Snowflake credentials.\n",
    "user = dbutils.secrets.get(scope=\"key-vault-secret-scope\",key=\"snowflake-username\")\n",
    "password = dbutils.secrets.get(scope=\"key-vault-secret-scope\",key=\"snowflake-password\")\n",
    "url = dbutils.secrets.get(scope=\"key-vault-secret-scope\",key=\"snowflake-url\")\n",
    "\n",
    "# snowflake connection options\n",
    "options = {\n",
    "  \"sfUrl\": url,\n",
    "  \"sfUser\": user,\n",
    "  \"sfPassword\": password,\n",
    "  \"sfDatabase\": \"SHARED_CRYPTO_QUOTES\",\n",
    "  \"sfSchema\": \"PUBLIC\",\n",
    "  \"sfWarehouse\": \"READER_WH\"\n",
    "}"
   ]
  },
  {
   "cell_type": "code",
   "execution_count": null,
   "metadata": {},
   "outputs": [],
   "source": [
    "# spark.sql(\"CREATE SCHEMA IF NOT EXISTS gold\")"
   ]
  },
  {
   "cell_type": "code",
   "execution_count": null,
   "metadata": {},
   "outputs": [],
   "source": [
    "# sql_table_create = \"CREATE TABLE IF NOT EXISTS gold.quotes \\\n",
    "#                       (Symbol STRING NOT NULL, Price DOUBLE NOT NULL, PriceTimeStamp TIMESTAMP NOT NULL, PriceDate DATE NOT NULL) \\\n",
    "#                     USING DELTA \\\n",
    "#                     PARTITIONED BY (PriceDate) \\\n",
    "#                     LOCATION 'abfss://crypto-gold@cryptoanalyticslake.dfs.core.windows.net/quotes-delta-table'\"\n",
    "\n",
    "# spark.sql(sql_table_create)"
   ]
  },
  {
   "cell_type": "code",
   "execution_count": null,
   "metadata": {},
   "outputs": [],
   "source": [
    "# sql_copy = f\"COPY INTO gold.quotes \\\n",
    "#              FROM (SELECT _c0, _c1, _c2, _c3 \\\n",
    "#                 FROM 'abfss://crypto-gold@cryptoanalyticslake.dfs.core.windows.net/quotes-by-day-manual-partition-single-file/{year}/{month:0>2d}/{day:0>2d}') \\\n",
    "#              FILEFORMAT = CSV \"\n",
    "\n",
    "# spark.sql(sql_copy)"
   ]
  },
  {
   "cell_type": "code",
   "execution_count": null,
   "metadata": {},
   "outputs": [],
   "source": [
    "# Set Day Month Year\n",
    "from datetime import datetime\n",
    "\n",
    "today = datetime.utcnow()\n",
    "year = today.year\n",
    "month = today.month\n",
    "day = today.day"
   ]
  },
  {
   "cell_type": "code",
   "execution_count": null,
   "metadata": {},
   "outputs": [],
   "source": [
    "singlecsvfolderpath = f\"abfss://crypto-gold@cryptoanalyticslake.dfs.core.windows.net/quotes-by-day-manual-partition-single-file/{year}/{month:0>2d}/{day:0>2d}\"\n",
    "\n",
    "df = spark.read.format(\"csv\").option(\"header\", \"true\").load(singlecsvfolderpath)\n",
    "\n",
    "df.write \\\n",
    "    .format(\"snowflake\") \\\n",
    "    .options(**options) \\\n",
    "    .option(\"dbtable\", \"CRYPTO_QUOTES\") \\\n",
    "    .mode(\"append\") \\\n",
    "    .save()\n",
    "\n"
   ]
  }
 ],
 "metadata": {
  "interpreter": {
   "hash": "5ba07a350988f024b54f83db5857398c9985c12277eab18b597a9845966b8c16"
  },
  "kernelspec": {
   "display_name": "Python 3.10.3 64-bit",
   "language": "python",
   "name": "python3"
  },
  "language_info": {
   "name": "python",
   "version": "3.10.3"
  },
  "orig_nbformat": 4
 },
 "nbformat": 4,
 "nbformat_minor": 2
}
